{
  "cells": [
    {
      "cell_type": "markdown",
      "metadata": {
        "id": "lTvNkv5dk18u"
      },
      "source": [
        "# Cálculo - Tarefa 01\n",
        "\n",
        "# 1.\n",
        "\n",
        "Marque quais desses métodos/algoritmos muito populares em ciência de dados são baseados no uso de derivada:\n",
        "\n",
        "    1. Método Mínimos Quadrados\n",
        "    2. Gradiente descendente\n",
        "    3. Newton Raphson\n",
        "    4. CART (Árvore de decisão)"
      ]
    },
    {
      "cell_type": "markdown",
      "source": [
        "# Resposta: 2 e 3\n",
        "\n",
        "**Gradiente descendente:**\n",
        "\n",
        "O Gradiente Descendente é um algoritmo de otimização usado para encontrar o mínimo de uma função. Ele é baseado no cálculo do gradiente da função objetivo e, portanto, utiliza derivadas para determinar a direção e magnitude das atualizações dos parâmetros. Portanto, é diretamente baseado no uso de derivadas.\n",
        "\n",
        "**Newton-Raphson:**\n",
        "\n",
        "O Método de Newton-Raphson é uma técnica de otimização que também é usada para encontrar zeros de funções (raízes). Ele envolve o uso de derivadas para calcular as iterações necessárias para se aproximar da raiz ou do mínimo da função.\n",
        "\n"
      ],
      "metadata": {
        "id": "mB3hp9ollqhk"
      }
    },
    {
      "cell_type": "markdown",
      "metadata": {
        "id": "fJ71H9Suk180"
      },
      "source": [
        "# 2.\n",
        "\n",
        "Dada uma base de dados com uma variável resposta $y$ e um conjunto de variáveis explicativas. Considere uma estrutura de um modelo de regressão. Explique com suas palavras por que não é possível obter parâmetros que forneçam um erro quadrático médio (EQM) menor que o obtido com estimadores de mínimos quadrados."
      ]
    },
    {
      "cell_type": "markdown",
      "source": [
        "# Resposta:\n",
        "\n",
        "Os estimadores de mínimos quadrados produzem um modelo que **está o mais próximo possível** dos valores observados. Isso significa que o modelo produz uma previsão que **já está** o mais próximo possível.\n",
        "\n",
        "Se pudéssemos encontrar estimadores que produzissem um EQM menor, isso significaria que o modelo estaria ainda mais próximo das alturas observadas. Mas isso é impossível, pois os estimadores de mínimos quadrados **já são** os estimadores que produzem o menor EQM possível.\n",
        "\n",
        "Portanto, **não é possível** obter parâmetros que forneçam um EQM menor que o obtido com estimadores de mínimos quadrados."
      ],
      "metadata": {
        "id": "F6ZIX8H3o5HI"
      }
    }
  ],
  "metadata": {
    "kernelspec": {
      "display_name": "Python 3",
      "language": "python",
      "name": "python3"
    },
    "language_info": {
      "codemirror_mode": {
        "name": "ipython",
        "version": 3
      },
      "file_extension": ".py",
      "mimetype": "text/x-python",
      "name": "python",
      "nbconvert_exporter": "python",
      "pygments_lexer": "ipython3",
      "version": "3.8.5"
    },
    "toc": {
      "base_numbering": 1,
      "nav_menu": {},
      "number_sections": true,
      "sideBar": true,
      "skip_h1_title": true,
      "title_cell": "Índice",
      "title_sidebar": "Conteúdo",
      "toc_cell": false,
      "toc_position": {},
      "toc_section_display": true,
      "toc_window_display": false
    },
    "varInspector": {
      "cols": {
        "lenName": 16,
        "lenType": 16,
        "lenVar": 40
      },
      "kernels_config": {
        "python": {
          "delete_cmd_postfix": "",
          "delete_cmd_prefix": "del ",
          "library": "var_list.py",
          "varRefreshCmd": "print(var_dic_list())"
        },
        "r": {
          "delete_cmd_postfix": ") ",
          "delete_cmd_prefix": "rm(",
          "library": "var_list.r",
          "varRefreshCmd": "cat(var_dic_list()) "
        }
      },
      "types_to_exclude": [
        "module",
        "function",
        "builtin_function_or_method",
        "instance",
        "_Feature"
      ],
      "window_display": false
    },
    "colab": {
      "provenance": []
    }
  },
  "nbformat": 4,
  "nbformat_minor": 0
}